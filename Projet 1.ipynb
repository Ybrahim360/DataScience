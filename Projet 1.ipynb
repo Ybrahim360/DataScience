{
 "cells": [
  {
   "cell_type": "code",
   "execution_count": 1,
   "id": "461c79ec",
   "metadata": {},
   "outputs": [
    {
     "name": "stdout",
     "output_type": "stream",
     "text": [
      "Defaulting to user installation because normal site-packages is not writeable\n",
      "Requirement already satisfied: pandas in c:\\programdata\\anaconda3\\lib\\site-packages (2.0.3)\n",
      "Requirement already satisfied: python-dateutil>=2.8.2 in c:\\programdata\\anaconda3\\lib\\site-packages (from pandas) (2.8.2)\n",
      "Requirement already satisfied: pytz>=2020.1 in c:\\programdata\\anaconda3\\lib\\site-packages (from pandas) (2023.3.post1)\n",
      "Requirement already satisfied: tzdata>=2022.1 in c:\\programdata\\anaconda3\\lib\\site-packages (from pandas) (2023.3)\n",
      "Requirement already satisfied: numpy>=1.21.0 in c:\\programdata\\anaconda3\\lib\\site-packages (from pandas) (1.24.3)\n",
      "Requirement already satisfied: six>=1.5 in c:\\programdata\\anaconda3\\lib\\site-packages (from python-dateutil>=2.8.2->pandas) (1.16.0)\n"
     ]
    }
   ],
   "source": [
    "! pip  install  pandas \n",
    "#Importer et configurer les modules requis. \n",
    "# Définir les importations requises \n",
    "import pandas as pd\n",
    "import numpy as np \n",
    "import sys\n",
    "import re    \n",
    "# Ces paramètres définissent l'affichage maximal des colonnes et des lignes de pandas dans le notebook pd . set_option ( 'display.max_columns' , 50 ) pd . set_option ( 'display.max_rows' , 50 )   \n",
    "   "
   ]
  },
  {
   "cell_type": "code",
   "execution_count": 2,
   "id": "5bcfb951",
   "metadata": {},
   "outputs": [],
   "source": [
    "%%capture \n",
    "# Utilisation de pandas pour lire les données \n",
    "# Étant donné que la colonne `DATE` contient des informations de date et d'heure, nous utilisons le mot-clé Pandas parse_dates pour faciliter le traitement des données\n",
    "\n",
    "raw_data  =  pd . read_csv ( \"C:/Users/USER\\Downloads/jfk_weather.csv\" ,  parse_dates = [ 'DATE' ]) \n",
    "raw_data . head ()"
   ]
  },
  {
   "cell_type": "code",
   "execution_count": 4,
   "id": "6d8a1f2d",
   "metadata": {},
   "outputs": [
    {
     "data": {
      "text/plain": [
       "STATION                               object\n",
       "STATION_NAME                          object\n",
       "ELEVATION                            float64\n",
       "LATITUDE                             float64\n",
       "LONGITUDE                            float64\n",
       "                                      ...   \n",
       "MonthlyTotalCoolingDegreeDays         object\n",
       "MonthlyDeptFromNormalHeatingDD        object\n",
       "MonthlyDeptFromNormalCoolingDD        object\n",
       "MonthlyTotalSeasonToDateHeatingDD    float64\n",
       "MonthlyTotalSeasonToDateCoolingDD    float64\n",
       "Length: 90, dtype: object"
      ]
     },
     "execution_count": 4,
     "metadata": {},
     "output_type": "execute_result"
    }
   ],
   "source": [
    "raw_data.dtypes"
   ]
  },
  {
   "cell_type": "code",
   "execution_count": 5,
   "id": "590bd722",
   "metadata": {},
   "outputs": [
    {
     "data": {
      "text/html": [
       "<div>\n",
       "<style scoped>\n",
       "    .dataframe tbody tr th:only-of-type {\n",
       "        vertical-align: middle;\n",
       "    }\n",
       "\n",
       "    .dataframe tbody tr th {\n",
       "        vertical-align: top;\n",
       "    }\n",
       "\n",
       "    .dataframe thead th {\n",
       "        text-align: right;\n",
       "    }\n",
       "</style>\n",
       "<table border=\"1\" class=\"dataframe\">\n",
       "  <thead>\n",
       "    <tr style=\"text-align: right;\">\n",
       "      <th></th>\n",
       "      <th>HOURLYVISIBILITY</th>\n",
       "      <th>HOURLYDRYBULBTEMPF</th>\n",
       "      <th>HOURLYWETBULBTEMPF</th>\n",
       "      <th>HOURLYDewPointTempF</th>\n",
       "      <th>HOURLYRelativeHumidity</th>\n",
       "      <th>HOURLYWindSpeed</th>\n",
       "      <th>HOURLYWindDirection</th>\n",
       "      <th>HOURLYStationPressure</th>\n",
       "      <th>HOURLYPressureTendency</th>\n",
       "      <th>HOURLYSeaLevelPressure</th>\n",
       "      <th>HOURLYPrecip</th>\n",
       "      <th>HOURLYAltimeterSetting</th>\n",
       "    </tr>\n",
       "    <tr>\n",
       "      <th>DATE</th>\n",
       "      <th></th>\n",
       "      <th></th>\n",
       "      <th></th>\n",
       "      <th></th>\n",
       "      <th></th>\n",
       "      <th></th>\n",
       "      <th></th>\n",
       "      <th></th>\n",
       "      <th></th>\n",
       "      <th></th>\n",
       "      <th></th>\n",
       "      <th></th>\n",
       "    </tr>\n",
       "  </thead>\n",
       "  <tbody>\n",
       "    <tr>\n",
       "      <th>2010-01-01 00:51:00</th>\n",
       "      <td>6.00</td>\n",
       "      <td>33.0</td>\n",
       "      <td>32.0</td>\n",
       "      <td>31</td>\n",
       "      <td>92.0</td>\n",
       "      <td>0.0</td>\n",
       "      <td>000</td>\n",
       "      <td>29.97</td>\n",
       "      <td>8.0</td>\n",
       "      <td>29.99</td>\n",
       "      <td>0.01</td>\n",
       "      <td>29.99</td>\n",
       "    </tr>\n",
       "    <tr>\n",
       "      <th>2010-01-01 01:00:00</th>\n",
       "      <td>5.59</td>\n",
       "      <td>33.0</td>\n",
       "      <td>32.0</td>\n",
       "      <td>31</td>\n",
       "      <td>92.0</td>\n",
       "      <td>0.0</td>\n",
       "      <td>000</td>\n",
       "      <td>29.96</td>\n",
       "      <td>8.0</td>\n",
       "      <td>29.99</td>\n",
       "      <td>NaN</td>\n",
       "      <td>NaN</td>\n",
       "    </tr>\n",
       "    <tr>\n",
       "      <th>2010-01-01 01:51:00</th>\n",
       "      <td>6.00</td>\n",
       "      <td>33.0</td>\n",
       "      <td>33.0</td>\n",
       "      <td>32</td>\n",
       "      <td>96.0</td>\n",
       "      <td>0.0</td>\n",
       "      <td>000</td>\n",
       "      <td>29.97</td>\n",
       "      <td>NaN</td>\n",
       "      <td>29.99</td>\n",
       "      <td>0.02</td>\n",
       "      <td>29.99</td>\n",
       "    </tr>\n",
       "    <tr>\n",
       "      <th>2010-01-01 02:03:00</th>\n",
       "      <td>6.00</td>\n",
       "      <td>34.0</td>\n",
       "      <td>33.0</td>\n",
       "      <td>32</td>\n",
       "      <td>93.0</td>\n",
       "      <td>0.0</td>\n",
       "      <td>000</td>\n",
       "      <td>29.97</td>\n",
       "      <td>NaN</td>\n",
       "      <td>NaN</td>\n",
       "      <td>T</td>\n",
       "      <td>29.99</td>\n",
       "    </tr>\n",
       "    <tr>\n",
       "      <th>2010-01-01 02:28:00</th>\n",
       "      <td>5.00</td>\n",
       "      <td>34.0</td>\n",
       "      <td>33.0</td>\n",
       "      <td>32</td>\n",
       "      <td>93.0</td>\n",
       "      <td>0.0</td>\n",
       "      <td>000</td>\n",
       "      <td>29.97</td>\n",
       "      <td>NaN</td>\n",
       "      <td>NaN</td>\n",
       "      <td>T</td>\n",
       "      <td>29.99</td>\n",
       "    </tr>\n",
       "  </tbody>\n",
       "</table>\n",
       "</div>"
      ],
      "text/plain": [
       "                    HOURLYVISIBILITY HOURLYDRYBULBTEMPF HOURLYWETBULBTEMPF  \\\n",
       "DATE                                                                         \n",
       "2010-01-01 00:51:00             6.00               33.0               32.0   \n",
       "2010-01-01 01:00:00             5.59               33.0               32.0   \n",
       "2010-01-01 01:51:00             6.00               33.0               33.0   \n",
       "2010-01-01 02:03:00             6.00               34.0               33.0   \n",
       "2010-01-01 02:28:00             5.00               34.0               33.0   \n",
       "\n",
       "                    HOURLYDewPointTempF HOURLYRelativeHumidity  \\\n",
       "DATE                                                             \n",
       "2010-01-01 00:51:00                  31                   92.0   \n",
       "2010-01-01 01:00:00                  31                   92.0   \n",
       "2010-01-01 01:51:00                  32                   96.0   \n",
       "2010-01-01 02:03:00                  32                   93.0   \n",
       "2010-01-01 02:28:00                  32                   93.0   \n",
       "\n",
       "                    HOURLYWindSpeed HOURLYWindDirection HOURLYStationPressure  \\\n",
       "DATE                                                                            \n",
       "2010-01-01 00:51:00             0.0                 000                 29.97   \n",
       "2010-01-01 01:00:00             0.0                 000                 29.96   \n",
       "2010-01-01 01:51:00             0.0                 000                 29.97   \n",
       "2010-01-01 02:03:00             0.0                 000                 29.97   \n",
       "2010-01-01 02:28:00             0.0                 000                 29.97   \n",
       "\n",
       "                     HOURLYPressureTendency HOURLYSeaLevelPressure  \\\n",
       "DATE                                                                 \n",
       "2010-01-01 00:51:00                     8.0                  29.99   \n",
       "2010-01-01 01:00:00                     8.0                  29.99   \n",
       "2010-01-01 01:51:00                     NaN                  29.99   \n",
       "2010-01-01 02:03:00                     NaN                    NaN   \n",
       "2010-01-01 02:28:00                     NaN                    NaN   \n",
       "\n",
       "                    HOURLYPrecip HOURLYAltimeterSetting  \n",
       "DATE                                                     \n",
       "2010-01-01 00:51:00         0.01                  29.99  \n",
       "2010-01-01 01:00:00          NaN                    NaN  \n",
       "2010-01-01 01:51:00         0.02                  29.99  \n",
       "2010-01-01 02:03:00            T                  29.99  \n",
       "2010-01-01 02:28:00            T                  29.99  "
      ]
     },
     "execution_count": 5,
     "metadata": {},
     "output_type": "execute_result"
    }
   ],
   "source": [
    "# Choisissez les colonnes à importer à partir des données brutes \n",
    "column_subset  =  [ \n",
    "    'DATE' , \n",
    "    'HOURLYVISIBILITY' , \n",
    "    'HOURLYDRYBULBTEMPF' , \n",
    "    'HOURLYWETBULBTEMPF' , \n",
    "    'HOURLYDewPointTempF' , \n",
    "    'HOURLYRelativeHumidity' , \n",
    "    'HOURLYWindSpeed' , \n",
    "    'HOURLYWindDirection' , \n",
    "    'HOURLYStationPressure' , \n",
    "    'HOURLYPressureTendency' , \n",
    "    'HOURLYSeaLevelPressure' , \n",
    "    'HOURLYPrecip' , \n",
    "    'HOURLYAltimeterSetting' \n",
    "]\n",
    "\n",
    "# Filtrer l'ensemble de données sur les colonnes pertinentes \n",
    "hourly_data  =  raw_data [ column_subset ] \n",
    "# Définir l'index de date \n",
    "hourly_data  =  hourly_data . set_index ( pd . DatetimeIndex ( hourly_data [ 'DATE' ])) \n",
    "hourly_data . drop ([ 'DATE' ],  axis = 1 ,  inplace = True ) \n",
    "hourly_data . replace ( to_replace = '*' ,  value = np . nan ,  inplace = True ) \n",
    "hourly_data . head ()"
   ]
  },
  {
   "cell_type": "markdown",
   "id": "c74ac7cb",
   "metadata": {},
   "source": [
    "H1: variables et définitions"
   ]
  },
  {
   "cell_type": "markdown",
   "id": "548b2ac6",
   "metadata": {},
   "source": [
    "# Variables et définitions"
   ]
  },
  {
   "cell_type": "markdown",
   "id": "48ca4368",
   "metadata": {},
   "source": [
    "***masterclass***"
   ]
  },
  {
   "cell_type": "markdown",
   "id": "bee501a3",
   "metadata": {},
   "source": [
    "_masterclass_"
   ]
  },
  {
   "cell_type": "code",
   "execution_count": null,
   "id": "6cf0a791",
   "metadata": {},
   "outputs": [],
   "source": [
    "Le lien de mon site web(https://labs.cognitiveclass.ai/v2/tools/jupyterlite?ulid=ulid-50bed212648b9b6a3d2409a0f406260004033836)"
   ]
  },
  {
   "cell_type": "markdown",
   "id": "08dfab51",
   "metadata": {},
   "source": [
    "|Homme|Femme|\n",
    "-------------\n",
    "    6    7"
   ]
  },
  {
   "cell_type": "markdown",
   "id": "1d628c9a",
   "metadata": {},
   "source": [
    "|mars|avril|\n",
    "|--------|  |"
   ]
  },
  {
   "cell_type": "code",
   "execution_count": null,
   "id": "dfdc3879",
   "metadata": {},
   "outputs": [],
   "source": []
  }
 ],
 "metadata": {
  "kernelspec": {
   "display_name": "Python [conda env:base] *",
   "language": "python",
   "name": "conda-base-py"
  },
  "language_info": {
   "codemirror_mode": {
    "name": "ipython",
    "version": 3
   },
   "file_extension": ".py",
   "mimetype": "text/x-python",
   "name": "python",
   "nbconvert_exporter": "python",
   "pygments_lexer": "ipython3",
   "version": "3.11.5"
  }
 },
 "nbformat": 4,
 "nbformat_minor": 5
}
